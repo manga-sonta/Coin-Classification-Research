{
  "cells": [
    {
      "cell_type": "markdown",
      "metadata": {
        "id": "view-in-github",
        "colab_type": "text"
      },
      "source": [
        "<a href=\"https://colab.research.google.com/github/manga-sonta/Coin-Classification-Research/blob/main/custom_net_tda.ipynb\" target=\"_parent\"><img src=\"https://colab.research.google.com/assets/colab-badge.svg\" alt=\"Open In Colab\"/></a>"
      ]
    },
    {
      "cell_type": "markdown",
      "id": "a7847b23-6f34-45b5-bcce-ea2bb70993f7",
      "metadata": {
        "id": "a7847b23-6f34-45b5-bcce-ea2bb70993f7"
      },
      "source": [
        "#### ।।ॐ श्री गणेशाय नमः।।"
      ]
    },
    {
      "cell_type": "code",
      "execution_count": 1,
      "id": "3666c9d8-65af-4fe4-acb5-d12bec919b1d",
      "metadata": {
        "id": "3666c9d8-65af-4fe4-acb5-d12bec919b1d"
      },
      "outputs": [],
      "source": [
        "import torch\n",
        "import torchvision\n",
        "import torchvision.transforms as transforms\n",
        "import glob\n",
        "import os\n",
        "import pandas as pd\n",
        "from torchvision.io import read_image\n",
        "import cv2\n",
        "import json\n",
        "from PIL import Image\n",
        "import torch, torchvision\n",
        "import torch.nn.functional as F\n",
        "from torchvision import datasets, models, transforms\n",
        "import torch.nn as nn\n",
        "import torch.optim as optim\n",
        "from torchvision.models import resnet50, ResNet50_Weights\n",
        "import pdb\n",
        "import tensorflow_hub as hub"
      ]
    },
    {
      "cell_type": "markdown",
      "id": "e1f065ad-b69c-468d-b31a-ea41c1de829a",
      "metadata": {
        "id": "e1f065ad-b69c-468d-b31a-ea41c1de829a"
      },
      "source": [
        "## Stage 1: Data Loader"
      ]
    },
    {
      "cell_type": "code",
      "source": [
        "from google.colab import drive\n",
        "drive.mount('/content/drive')"
      ],
      "metadata": {
        "colab": {
          "base_uri": "https://localhost:8080/"
        },
        "id": "FjNxNiaEGLYS",
        "outputId": "50f5e43d-4068-4dd5-f730-60569dbcdca5"
      },
      "id": "FjNxNiaEGLYS",
      "execution_count": 2,
      "outputs": [
        {
          "output_type": "stream",
          "name": "stdout",
          "text": [
            "Mounted at /content/drive\n"
          ]
        }
      ]
    },
    {
      "cell_type": "code",
      "execution_count": 3,
      "id": "696df96e-66a6-4192-b644-0e3e45227dd0",
      "metadata": {
        "id": "696df96e-66a6-4192-b644-0e3e45227dd0"
      },
      "outputs": [],
      "source": [
        "# traindir = [r\"C:\\Users\\Mangalam\\Downloads\\1. Research\\Currency Detection\\naveen_dataset\\train\\rupee_1\\*.*\", r\"C:\\Users\\Mangalam\\Downloads\\1. Research\\Currency Detection\\naveen_dataset\\train\\rupee_2\\*.*\", r\"C:\\Users\\Mangalam\\Downloads\\1. Research\\Currency Detection\\naveen_dataset\\train\\rupee_5\\*.*\", r\"C:\\Users\\Mangalam\\Downloads\\1. Research\\Currency Detection\\naveen_dataset\\train\\rupee_10\\*.*\"]\n",
        "# testdir = [r\"C:\\Users\\Mangalam\\Downloads\\1. Research\\Currency Detection\\naveen_dataset\\test\\rupee_1\\*.*\", r\"C:\\Users\\Mangalam\\Downloads\\1. Research\\Currency Detection\\naveen_dataset\\test\\rupee_2\\*.*\", r\"C:\\Users\\Mangalam\\Downloads\\1. Research\\Currency Detection\\naveen_dataset\\test\\rupee_5\\*.*\", r\"C:\\Users\\Mangalam\\Downloads\\1. Research\\Currency Detection\\naveen_dataset\\test\\rupee_10\\*.*\"]\n",
        "\n",
        "traindir = ['/content/drive/My Drive/coin_dataset/train/rupee_1/*.*', '/content/drive/MyDrive/coin_dataset/train/rupee_2/*.*', '/content/drive/MyDrive/coin_dataset/train/rupee_5/*.*', '/content/drive/MyDrive/coin_dataset/train/rupee_10/*.*']\n",
        "testdir = [r'/content/drive/MyDrive/coin_dataset/test/rupee_1/*.*', r'/content/drive/MyDrive/coin_dataset/test/rupee_2/*.*', r'/content/drive/MyDrive/coin_dataset/test/rupee_5/*.*', r'/content/drive/MyDrive/coin_dataset/test/rupee_10/*.*']\n",
        "img_paths = []\n",
        "labels = []"
      ]
    },
    {
      "cell_type": "code",
      "execution_count": 4,
      "id": "26cea933-b0d0-4bbd-befc-889f05b9e335",
      "metadata": {
        "id": "26cea933-b0d0-4bbd-befc-889f05b9e335"
      },
      "outputs": [],
      "source": [
        "class CustomImageTrainDataset():\n",
        "    def __init__(self):\n",
        "        # search all files inside a specific folder\n",
        "        # *.* means file name with any extension\n",
        "\n",
        "        for i, dir in enumerate(traindir):\n",
        "            paths = glob.glob(dir)\n",
        "            for path in paths:\n",
        "                img_paths.append(path)\n",
        "                labels.append(i)\n",
        "\n",
        "        self.img_labels = labels\n",
        "        self.img_dir = img_paths\n",
        "\n",
        "    def __len__(self):\n",
        "        return len(self.img_labels)\n",
        "\n",
        "    def __getitem__(self, idx):\n",
        "        # print(idx)\n",
        "        img_path = os.path.join(self.img_dir[idx])\n",
        "        # print(img_path)\n",
        "\n",
        "        image = Image.open(img_path)\n",
        "        transform = transforms.Compose([\n",
        "            transforms.ToTensor(),\n",
        "            # transforms.RandomResizedCrop((200,200)),\n",
        "            transforms.RandomRotation(degrees=30),\n",
        "            #transforms.ColorJitter(),\n",
        "            transforms.Resize((64,64))])\n",
        "        img_tensor = transform(image)\n",
        "\n",
        "        label = self.img_labels[idx]\n",
        "        # npimg = np.array(image)\n",
        "        return img_tensor, label\n",
        "\n",
        "class CustomImageTestDataset():\n",
        "    def __init__(self):\n",
        "        # search all files inside a specific folder\n",
        "        # *.* means file name with any extension\n",
        "\n",
        "        for i, dir in enumerate(testdir):\n",
        "            paths = glob.glob(dir)\n",
        "            for path in paths:\n",
        "                img_paths.append(path)\n",
        "                labels.append(i)\n",
        "\n",
        "        self.img_labels = labels\n",
        "        self.img_dir = img_paths\n",
        "\n",
        "    def __len__(self):\n",
        "        return len(self.img_labels)\n",
        "\n",
        "    def __getitem__(self, idx):\n",
        "        img_path = os.path.join(self.img_dir[idx])\n",
        "        # image = read_image(img_path)\n",
        "        label = self.img_labels[idx]\n",
        "\n",
        "        image = Image.open(img_path)\n",
        "        transform = transforms.Compose([\n",
        "            transforms.ToTensor(),\n",
        "            # transforms.RandomResizedCrop((200,200)),\n",
        "            transforms.RandomRotation(degrees=30),\n",
        "            #transforms.ColorJitter(),\n",
        "            transforms.Resize((64,64))])\n",
        "        img_tensor = transform(image)\n",
        "\n",
        "\n",
        "        return img_tensor, label"
      ]
    },
    {
      "cell_type": "code",
      "execution_count": 5,
      "id": "ae46803b-44b7-4b59-8d5a-e22a0c519780",
      "metadata": {
        "id": "ae46803b-44b7-4b59-8d5a-e22a0c519780"
      },
      "outputs": [],
      "source": [
        "# transform = transforms.Compose(\n",
        "#     [transforms.ToTensor(),\n",
        "#      transforms.Normalize((0.5, 0.5, 0.5), (0.5, 0.5, 0.5))])\n",
        "\n",
        "batch_size = 512\n",
        "\n",
        "trainset = CustomImageTrainDataset()\n",
        "trainloader = torch.utils.data.DataLoader(trainset, batch_size=batch_size,\n",
        "                                          shuffle=True, num_workers=0)\n",
        "\n",
        "testset = CustomImageTestDataset()\n",
        "\n",
        "testloader = torch.utils.data.DataLoader(testset, batch_size=batch_size,\n",
        "                                         shuffle=False, num_workers=0)\n",
        "\n",
        "classes = ('1 Rupee Coin', '2 Rupee Coin', '5 Rupee Coin', '10 Rupee Coin', )"
      ]
    },
    {
      "cell_type": "code",
      "execution_count": 6,
      "id": "b98bb8ad-045a-42b3-af58-7e62f5e0b5cd",
      "metadata": {
        "colab": {
          "base_uri": "https://localhost:8080/",
          "height": 487
        },
        "id": "b98bb8ad-045a-42b3-af58-7e62f5e0b5cd",
        "outputId": "65a1e346-55dc-48c1-f26f-3dc417412240"
      },
      "outputs": [
        {
          "output_type": "stream",
          "name": "stdout",
          "text": [
            "1983\n",
            "torch.Size([3, 4226, 530])\n",
            "torch.Size([4226, 530])\n"
          ]
        },
        {
          "output_type": "display_data",
          "data": {
            "text/plain": [
              "<Figure size 640x480 with 1 Axes>"
            ],
            "image/png": "[encoded data removed]"
          },
          "metadata": {}
        }
      ],
      "source": [
        "#Let us show some of the training images, for fun.\n",
        "\n",
        "import matplotlib.pyplot as plt\n",
        "import numpy as np\n",
        "\n",
        "# functions to show an image\n",
        "\n",
        "\n",
        "def imshow(img):\n",
        "    # img = img / 2 + 0.5     # unnormalize\n",
        "    # npimg = img.numpy()\n",
        "    print(img.shape)\n",
        "    result = img[0, :, :]\n",
        "    print(result.shape)\n",
        "    plt.imshow(result)\n",
        "    plt.show()\n",
        "\n",
        "\n",
        "# get some random training images\n",
        "# print(len(testset))\n",
        "print(testset.__len__())\n",
        "# trainset.__getitem__(7)\n",
        "dataiter = iter(trainloader)\n",
        "images, labels = next(dataiter)\n",
        "\n",
        "# show images\n",
        "imshow(torchvision.utils.make_grid(images))\n",
        "# print labels\n",
        "# print(' '.join(f'{label[labels[j]]:5s}' for j in range(batch_size)))"
      ]
    },
    {
      "cell_type": "markdown",
      "id": "21165607-d43d-415a-a5e1-e3ecc0f515ff",
      "metadata": {
        "id": "21165607-d43d-415a-a5e1-e3ecc0f515ff"
      },
      "source": [
        "## Stage 2: CNN Backbone"
      ]
    },
    {
      "cell_type": "code",
      "execution_count": 7,
      "id": "b26a8287-03b3-4d94-965f-9b5053966a53",
      "metadata": {
        "id": "b26a8287-03b3-4d94-965f-9b5053966a53"
      },
      "outputs": [],
      "source": [
        "# CUSTOM NET\n",
        "\n",
        "class Net(nn.Module):\n",
        "    def __init__(self):\n",
        "        super().__init__()\n",
        "        self.conv1 = nn.Conv2d(3, 6, 5)\n",
        "        self.pool = nn.MaxPool2d(2, 2)\n",
        "        self.conv2 = nn.Conv2d(6, 16, 5)\n",
        "        self.fc1 = nn.Linear(16 * 5 * 5, 120)\n",
        "        self.fc2 = nn.Linear(120, 84)\n",
        "        self.fc3 = nn.Linear(84, 10)\n",
        "\n",
        "    def forward(self, x):\n",
        "        pdb.set_trace()\n",
        "        x = self.conv1(x)\n",
        "        x = F.relu(x)\n",
        "        x = self.pool(x)\n",
        "        x = self.conv2(x)\n",
        "        x = F.relu(x)\n",
        "        x = self.pool(x)\n",
        "        # x = self.pool(F.relu(self.conv2(x)))\n",
        "        x = torch.flatten(x, 1) # flatten all dimensions except batch\n",
        "        x = F.relu(self.fc1(x))\n",
        "        x = F.relu(self.fc2(x))\n",
        "        x = self.fc3(x)\n",
        "        return x\n",
        "\n",
        "\n",
        "net = Net()"
      ]
    },
    {
      "cell_type": "markdown",
      "id": "f1aa62bf-cfec-4086-81e5-d9b78e3ab0d6",
      "metadata": {
        "id": "f1aa62bf-cfec-4086-81e5-d9b78e3ab0d6"
      },
      "source": [
        "## Stage 3: Varying of Parameters\n",
        "##### 1. Batch Size\n",
        "##### 2. Optimizer\n",
        "##### 3. Learning Rate\n",
        "##### 4. Epochs\n",
        "Let’s use a Classification Cross-Entropy loss and Adam Optimizer.\n",
        "We can also use SGD with momentum in place of Adam"
      ]
    },
    {
      "cell_type": "code",
      "execution_count": 8,
      "id": "b13db899-9525-4a16-b026-0a34634ad37d",
      "metadata": {
        "id": "b13db899-9525-4a16-b026-0a34634ad37d"
      },
      "outputs": [],
      "source": [
        "# Custom Net New\n",
        "\n",
        "class CustomSpatialAttention(nn.Module):\n",
        "  \"\"\"\n",
        "  Custom spatial attention layer to focus on important regions.\n",
        "  \"\"\"\n",
        "  def __init__(self, channels):\n",
        "    super(CustomSpatialAttention, self).__init__()\n",
        "    self.conv1 = nn.Conv2d(channels, channels, kernel_size=3, padding=1)\n",
        "    self.conv2 = nn.Conv2d(channels, 1, kernel_size=1)  # Output channel = 1 for attention weights\n",
        "\n",
        "  def forward(self, x):\n",
        "    # Apply convolution to capture spatial information\n",
        "    attention = self.conv1(x)\n",
        "    attention = F.relu(attention)  # Activation\n",
        "    attention = self.conv2(attention)  # Reduce to 1 channel for weights\n",
        "    attention = F.sigmoid(attention)  # Normalize attention weights (0-1)\n",
        "    return x * attention  # Apply attention weights element-wise\n",
        "\n",
        "class ImageClassifier(nn.Module):\n",
        "  \"\"\"\n",
        "  Classifier with custom attention layer and standard components.\n",
        "  \"\"\"\n",
        "  def __init__(self):\n",
        "    super(ImageClassifier, self).__init__()\n",
        "    self.custom_attention = CustomSpatialAttention(3)  # Input channels = 3 (assuming RGB)\n",
        "    # Standard convolutional layers (you can adjust the architecture as needed)\n",
        "    self.conv1 = nn.Conv2d(3, 16, kernel_size=3, padding=1)\n",
        "    self.pool = nn.MaxPool2d(2, 2)\n",
        "    self.conv2 = nn.Conv2d(16, 32, kernel_size=3, padding=1)\n",
        "    self.fc1 = nn.Linear(32 * 16 * 16, 64)  # Assuming output of conv2 is 32 channels, 16x16 spatial dimensions\n",
        "    self.fc2 = nn.Linear(64, 4)  # 4 output classes\n",
        "\n",
        "  def forward(self, x):\n",
        "    x = self.custom_attention(x)\n",
        "    x = self.conv1(x)\n",
        "    x = self.pool(F.relu(x))\n",
        "    x = self.conv2(x)\n",
        "    x = self.pool(F.relu(x))\n",
        "    x = torch.flatten(x, 1)  # Flatten all dimensions except batch\n",
        "    x = F.relu(self.fc1(x))\n",
        "    x = self.fc2(x)\n",
        "    return x\n",
        "\n",
        "# Example usage (assuming you have your data loaders)\n",
        "custom_clf = ImageClassifier()"
      ]
    },
    {
      "cell_type": "markdown",
      "id": "25f9a352-69f9-4a86-aab0-7ecb7cab4c2a",
      "metadata": {
        "id": "25f9a352-69f9-4a86-aab0-7ecb7cab4c2a"
      },
      "source": [
        "## Stage 4: Training the Models"
      ]
    },
    {
      "cell_type": "code",
      "execution_count": 9,
      "id": "cf730362-b142-40e4-b27b-6b7a53cfcd07",
      "metadata": {
        "id": "cf730362-b142-40e4-b27b-6b7a53cfcd07"
      },
      "outputs": [],
      "source": [
        "model = custom_clf"
      ]
    },
    {
      "cell_type": "code",
      "execution_count": 10,
      "id": "8048fcfa-6bd8-4b98-a173-59648de5312c",
      "metadata": {
        "id": "8048fcfa-6bd8-4b98-a173-59648de5312c"
      },
      "outputs": [],
      "source": [
        "criterion = nn.CrossEntropyLoss()\n",
        "# optimizer = optim.SGD(net.parameters(), lr=0.00, momentum=0.9)\n",
        "optimizer = torch.optim.Adam(model.parameters(), lr=0.001)"
      ]
    },
    {
      "cell_type": "code",
      "execution_count": 11,
      "id": "16fc87c1-eb41-4e05-ad26-ca91ee900695",
      "metadata": {
        "id": "16fc87c1-eb41-4e05-ad26-ca91ee900695"
      },
      "outputs": [],
      "source": [
        "def acc_check():\n",
        "    correct = 0\n",
        "    total = 0\n",
        "    with torch.no_grad():\n",
        "        for data in testloader:\n",
        "            images, labels = data\n",
        "            # print (labels)\n",
        "            # calculate outputs by running images through the network\n",
        "            outputs = model(images)\n",
        "            # print(outputs)\n",
        "            # the class with the highest energy is what we choose as prediction\n",
        "            _, predicted = torch.max(outputs.data, 1)\n",
        "            total += labels.size(0)\n",
        "            correct += (predicted == labels).sum().item()\n",
        "    acc = 100 * correct // total\n",
        "    return acc\n",
        "\n",
        "# print(f'Accuracy of the network on the test images: {100 * correct // total} %')"
      ]
    },
    {
      "cell_type": "code",
      "execution_count": 12,
      "id": "90c42eaf-c94f-43d1-b295-28cbfb5f7629",
      "metadata": {
        "scrolled": true,
        "colab": {
          "base_uri": "https://localhost:8080/"
        },
        "id": "90c42eaf-c94f-43d1-b295-28cbfb5f7629",
        "outputId": "88346af5-8191-43f9-d40c-e695a024b7f7"
      },
      "outputs": [
        {
          "output_type": "stream",
          "name": "stdout",
          "text": [
            "0 :  2.768804430961609 , accuracy:  25\n",
            "0 :  1.3757476806640625 , accuracy:  32\n",
            "0 :  1.3679944276809692 , accuracy:  35\n",
            "1 :  2.6971534490585327 , accuracy:  42\n",
            "1 :  1.3336164951324463 , accuracy:  46\n",
            "1 :  1.3239156007766724 , accuracy:  46\n",
            "2 :  2.6117818355560303 , accuracy:  43\n",
            "2 :  1.2685350179672241 , accuracy:  46\n",
            "2 :  1.2493622303009033 , accuracy:  49\n",
            "3 :  2.5028902292251587 , accuracy:  48\n",
            "3 :  1.2073593139648438 , accuracy:  44\n",
            "3 :  1.2189873456954956 , accuracy:  47\n",
            "4 :  2.343207359313965 , accuracy:  49\n",
            "4 :  1.2123630046844482 , accuracy:  50\n",
            "4 :  1.1724821329116821 , accuracy:  52\n",
            "Finished Training\n",
            " 52\n"
          ]
        }
      ],
      "source": [
        "bestacc = 0\n",
        "for epoch in range(5):  # loop over the dataset multiple times\n",
        "\n",
        "    running_loss = 0.0\n",
        "    for i, data in enumerate(trainloader, 0):\n",
        "        # get the inputs; data is a list of [inputs, labels]\n",
        "        inputs, labels = data\n",
        "        # print(images.shape)\n",
        "\n",
        "        # zero the parameter gradients\n",
        "        optimizer.zero_grad()\n",
        "\n",
        "        # forward + backward + optimize\n",
        "        # print(inputs)\n",
        "        outputs = model(inputs)\n",
        "        loss = criterion(outputs, labels)\n",
        "        loss.backward()\n",
        "        optimizer.step()\n",
        "\n",
        "        # print statistics\n",
        "        running_loss += loss.item()\n",
        "        if i:\n",
        "            acc = acc_check()\n",
        "            print(epoch, ': ', running_loss,', accuracy: ', acc)\n",
        "            running_loss = 0.0\n",
        "            if acc>bestacc:\n",
        "                bestacc = acc\n",
        "\n",
        "\n",
        "print('Finished Training\\n', bestacc)"
      ]
    },
    {
      "cell_type": "markdown",
      "id": "b1759c5a-31a2-4d8d-8e91-641c8c05e4fe",
      "metadata": {
        "id": "b1759c5a-31a2-4d8d-8e91-641c8c05e4fe"
      },
      "source": [
        "## Stage 5: Testing Performance"
      ]
    },
    {
      "cell_type": "code",
      "execution_count": 13,
      "id": "654cf7bd-66dc-410a-9fe9-14f42ced0a83",
      "metadata": {
        "id": "654cf7bd-66dc-410a-9fe9-14f42ced0a83"
      },
      "outputs": [],
      "source": [
        "# dataiter = iter(testloader)\n",
        "# images, labels = next(dataiter)\n",
        "\n",
        "# # print images\n",
        "# imshow(torchvision.utils.make_grid(images))\n",
        "# print('GroundTruth: ', ' '.join(f'{classes[labels[j]]:5s}' for j in range(4)))"
      ]
    },
    {
      "cell_type": "code",
      "execution_count": 14,
      "id": "93a688f4-18fe-4c3f-9027-389c92f8a11e",
      "metadata": {
        "id": "93a688f4-18fe-4c3f-9027-389c92f8a11e"
      },
      "outputs": [],
      "source": [
        "# #obtaining predictions\n",
        "\n",
        "# outputs = net(images)"
      ]
    },
    {
      "cell_type": "code",
      "execution_count": 15,
      "id": "cb5903ad-65c1-4fc4-a438-01f1cd56eb4a",
      "metadata": {
        "id": "cb5903ad-65c1-4fc4-a438-01f1cd56eb4a"
      },
      "outputs": [],
      "source": [
        "# #The outputs are energies for the 10 classes. The higher the energy for a class, the more the network thinks that the image is of the particular class.\n",
        "# #So, let’s get the index of the highest energy:\n",
        "\n",
        "# _, predicted = torch.max(outputs, 1)\n",
        "\n",
        "# print('Predicted: ', ' '.join(f'{classes[predicted[j]]:5s}'\n",
        "#                               for j in range(4)))"
      ]
    },
    {
      "cell_type": "code",
      "execution_count": 16,
      "id": "9c6f360b-ed47-423c-a932-af45e385fdfb",
      "metadata": {
        "colab": {
          "base_uri": "https://localhost:8080/"
        },
        "id": "9c6f360b-ed47-423c-a932-af45e385fdfb",
        "outputId": "56a7f14f-1ccf-4377-dc0a-ad0d467f1541"
      },
      "outputs": [
        {
          "output_type": "stream",
          "name": "stdout",
          "text": [
            "Accuracy for class: 1 Rupee Coin is 70.9 %\n",
            "Accuracy for class: 2 Rupee Coin is 29.8 %\n",
            "Accuracy for class: 5 Rupee Coin is 55.9 %\n",
            "Accuracy for class: 10 Rupee Coin is 57.4 %\n"
          ]
        }
      ],
      "source": [
        "# prepare to count predictions for each class\n",
        "correct_pred = {classname: 0 for classname in classes}\n",
        "total_pred = {classname: 0 for classname in classes}\n",
        "\n",
        "# again no gradients needed\n",
        "with torch.no_grad():\n",
        "    for data in testloader:\n",
        "        images, labels = data\n",
        "        outputs = model(images)\n",
        "        _, predictions = torch.max(outputs, 1)\n",
        "        # collect the correct predictions for each class\n",
        "        for label, prediction in zip(labels, predictions):\n",
        "            if label == prediction:\n",
        "                correct_pred[classes[label]] += 1\n",
        "            total_pred[classes[label]] += 1\n",
        "\n",
        "# print accuracy for each class\n",
        "for classname, correct_count in correct_pred.items():\n",
        "    accuracy = 100 * float(correct_count) / total_pred[classname]\n",
        "    print(f'Accuracy for class: {classname:5s} is {accuracy:.1f} %')"
      ]
    }
  ],
  "metadata": {
    "kernelspec": {
      "display_name": "Python 3",
      "name": "python3"
    },
    "language_info": {
      "codemirror_mode": {
        "name": "ipython",
        "version": 3
      },
      "file_extension": ".py",
      "mimetype": "text/x-python",
      "name": "python",
      "nbconvert_exporter": "python",
      "pygments_lexer": "ipython3",
      "version": "3.9.13"
    },
    "colab": {
      "provenance": [],
      "gpuType": "T4",
      "include_colab_link": true
    },
    "accelerator": "GPU"
  },
  "nbformat": 4,
  "nbformat_minor": 5
}